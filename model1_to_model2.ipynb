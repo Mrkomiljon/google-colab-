{
  "nbformat": 4,
  "nbformat_minor": 0,
  "metadata": {
    "colab": {
      "name": "model1_to_model2.ipynb",
      "provenance": [],
      "collapsed_sections": [],
      "authorship_tag": "ABX9TyP6h73AioU7WP1VSZt2cwwA",
      "include_colab_link": true
    },
    "kernelspec": {
      "name": "python3",
      "display_name": "Python 3"
    },
    "language_info": {
      "name": "python"
    }
  },
  "cells": [
    {
      "cell_type": "markdown",
      "metadata": {
        "id": "view-in-github",
        "colab_type": "text"
      },
      "source": [
        "<a href=\"https://colab.research.google.com/github/Mrkomiljon/google-colab-/blob/main/model1_to_model2.ipynb\" target=\"_parent\"><img src=\"https://colab.research.google.com/assets/colab-badge.svg\" alt=\"Open In Colab\"/></a>"
      ]
    },
    {
      "cell_type": "code",
      "source": [
        "import pandas as pd\n",
        "import numpy as np\n",
        "import missingno as msno\n",
        "import matplotlib.pyplot as plt\n",
        "import seaborn as sns\n",
        "import plotly.express as px\n",
        "import plotly.graph_objects as go\n",
        "from plotly.subplots import make_subplots\n",
        "import warnings\n",
        "warnings.filterwarnings('ignore')"
      ],
      "metadata": {
        "id": "XrmQPxcqTDe2"
      },
      "execution_count": null,
      "outputs": []
    },
    {
      "cell_type": "code",
      "source": [
        "from sklearn.preprocessing import StandardScaler\n",
        "from sklearn.preprocessing import LabelEncoder\n",
        "from sklearn.tree import DecisionTreeClassifier\n",
        "from sklearn.ensemble import RandomForestClassifier\n",
        "from sklearn.naive_bayes import GaussianNB\n",
        "from sklearn.neighbors import KNeighborsClassifier\n",
        "from sklearn.svm import SVC\n",
        "from sklearn.neural_network import MLPClassifier\n",
        "from sklearn.ensemble import AdaBoostClassifier\n",
        "from sklearn.ensemble import GradientBoostingClassifier\n",
        "from sklearn.ensemble import ExtraTreesClassifier\n",
        "from sklearn.linear_model import LogisticRegression\n",
        "from sklearn.model_selection import train_test_split\n",
        "from sklearn.metrics import accuracy_score\n",
        "from xgboost import XGBClassifier\n",
        "# from catboost import CatBoostClassifier\n",
        "from sklearn import metrics\n",
        "from sklearn.metrics import roc_curve\n",
        "from sklearn.metrics import recall_score, confusion_matrix, precision_score, f1_score, accuracy_score, classification_report"
      ],
      "metadata": {
        "id": "ZoFRfHvsTNrs"
      },
      "execution_count": null,
      "outputs": []
    },
    {
      "cell_type": "code",
      "execution_count": null,
      "metadata": {
        "colab": {
          "base_uri": "https://localhost:8080/",
          "height": 297
        },
        "id": "SJNZiGKCS5c8",
        "outputId": "b2246c4d-7d3e-411f-88c1-dceae2aa200f"
      },
      "outputs": [
        {
          "output_type": "execute_result",
          "data": {
            "text/plain": [
              "      Gender  Senior Citizen  Partner  Dependents  Tenure Months  \\\n",
              "1533       0               0        1           0       0.225352   \n",
              "1908       1               1        1           0       0.915493   \n",
              "2599       0               0        0           0       0.154930   \n",
              "6576       0               1        0           0       0.873239   \n",
              "26         0               1        1           1       0.507042   \n",
              "\n",
              "      Phone Service  Monthly Charges  Total_Charges  Churn Value  \\\n",
              "1533              1         0.668657       0.165336            1   \n",
              "1908              1         0.897512       0.814395            0   \n",
              "2599              1         0.254229       0.060253            0   \n",
              "6576              1         0.644279       0.602844            0   \n",
              "26                1         0.579602       0.328796            1   \n",
              "\n",
              "      Internet Service_0  ...  Streaming Movies_2  Contract_0  Contract_1  \\\n",
              "1533                   0  ...                   1           1           0   \n",
              "1908                   0  ...                   1           0           1   \n",
              "2599                   1  ...                   0           1           0   \n",
              "6576                   1  ...                   0           0           1   \n",
              "26                     0  ...                   0           1           0   \n",
              "\n",
              "      Contract_2  Paperless Billing_0  Paperless Billing_1  Payment Method_0  \\\n",
              "1533           0                    0                    1                 0   \n",
              "1908           0                    0                    1                 0   \n",
              "2599           0                    1                    0                 1   \n",
              "6576           0                    1                    0                 1   \n",
              "26             0                    0                    1                 0   \n",
              "\n",
              "      Payment Method_1  Payment Method_2  Payment Method_3  \n",
              "1533                 0                 1                 0  \n",
              "1908                 0                 1                 0  \n",
              "2599                 0                 0                 0  \n",
              "6576                 0                 0                 0  \n",
              "26                   0                 1                 0  \n",
              "\n",
              "[5 rows x 42 columns]"
            ],
            "text/html": [
              "\n",
              "  <div id=\"df-966659c7-1925-4134-b39d-f530cfdc97e7\">\n",
              "    <div class=\"colab-df-container\">\n",
              "      <div>\n",
              "<style scoped>\n",
              "    .dataframe tbody tr th:only-of-type {\n",
              "        vertical-align: middle;\n",
              "    }\n",
              "\n",
              "    .dataframe tbody tr th {\n",
              "        vertical-align: top;\n",
              "    }\n",
              "\n",
              "    .dataframe thead th {\n",
              "        text-align: right;\n",
              "    }\n",
              "</style>\n",
              "<table border=\"1\" class=\"dataframe\">\n",
              "  <thead>\n",
              "    <tr style=\"text-align: right;\">\n",
              "      <th></th>\n",
              "      <th>Gender</th>\n",
              "      <th>Senior Citizen</th>\n",
              "      <th>Partner</th>\n",
              "      <th>Dependents</th>\n",
              "      <th>Tenure Months</th>\n",
              "      <th>Phone Service</th>\n",
              "      <th>Monthly Charges</th>\n",
              "      <th>Total_Charges</th>\n",
              "      <th>Churn Value</th>\n",
              "      <th>Internet Service_0</th>\n",
              "      <th>...</th>\n",
              "      <th>Streaming Movies_2</th>\n",
              "      <th>Contract_0</th>\n",
              "      <th>Contract_1</th>\n",
              "      <th>Contract_2</th>\n",
              "      <th>Paperless Billing_0</th>\n",
              "      <th>Paperless Billing_1</th>\n",
              "      <th>Payment Method_0</th>\n",
              "      <th>Payment Method_1</th>\n",
              "      <th>Payment Method_2</th>\n",
              "      <th>Payment Method_3</th>\n",
              "    </tr>\n",
              "  </thead>\n",
              "  <tbody>\n",
              "    <tr>\n",
              "      <th>1533</th>\n",
              "      <td>0</td>\n",
              "      <td>0</td>\n",
              "      <td>1</td>\n",
              "      <td>0</td>\n",
              "      <td>0.225352</td>\n",
              "      <td>1</td>\n",
              "      <td>0.668657</td>\n",
              "      <td>0.165336</td>\n",
              "      <td>1</td>\n",
              "      <td>0</td>\n",
              "      <td>...</td>\n",
              "      <td>1</td>\n",
              "      <td>1</td>\n",
              "      <td>0</td>\n",
              "      <td>0</td>\n",
              "      <td>0</td>\n",
              "      <td>1</td>\n",
              "      <td>0</td>\n",
              "      <td>0</td>\n",
              "      <td>1</td>\n",
              "      <td>0</td>\n",
              "    </tr>\n",
              "    <tr>\n",
              "      <th>1908</th>\n",
              "      <td>1</td>\n",
              "      <td>1</td>\n",
              "      <td>1</td>\n",
              "      <td>0</td>\n",
              "      <td>0.915493</td>\n",
              "      <td>1</td>\n",
              "      <td>0.897512</td>\n",
              "      <td>0.814395</td>\n",
              "      <td>0</td>\n",
              "      <td>0</td>\n",
              "      <td>...</td>\n",
              "      <td>1</td>\n",
              "      <td>0</td>\n",
              "      <td>1</td>\n",
              "      <td>0</td>\n",
              "      <td>0</td>\n",
              "      <td>1</td>\n",
              "      <td>0</td>\n",
              "      <td>0</td>\n",
              "      <td>1</td>\n",
              "      <td>0</td>\n",
              "    </tr>\n",
              "    <tr>\n",
              "      <th>2599</th>\n",
              "      <td>0</td>\n",
              "      <td>0</td>\n",
              "      <td>0</td>\n",
              "      <td>0</td>\n",
              "      <td>0.154930</td>\n",
              "      <td>1</td>\n",
              "      <td>0.254229</td>\n",
              "      <td>0.060253</td>\n",
              "      <td>0</td>\n",
              "      <td>1</td>\n",
              "      <td>...</td>\n",
              "      <td>0</td>\n",
              "      <td>1</td>\n",
              "      <td>0</td>\n",
              "      <td>0</td>\n",
              "      <td>1</td>\n",
              "      <td>0</td>\n",
              "      <td>1</td>\n",
              "      <td>0</td>\n",
              "      <td>0</td>\n",
              "      <td>0</td>\n",
              "    </tr>\n",
              "    <tr>\n",
              "      <th>6576</th>\n",
              "      <td>0</td>\n",
              "      <td>1</td>\n",
              "      <td>0</td>\n",
              "      <td>0</td>\n",
              "      <td>0.873239</td>\n",
              "      <td>1</td>\n",
              "      <td>0.644279</td>\n",
              "      <td>0.602844</td>\n",
              "      <td>0</td>\n",
              "      <td>1</td>\n",
              "      <td>...</td>\n",
              "      <td>0</td>\n",
              "      <td>0</td>\n",
              "      <td>1</td>\n",
              "      <td>0</td>\n",
              "      <td>1</td>\n",
              "      <td>0</td>\n",
              "      <td>1</td>\n",
              "      <td>0</td>\n",
              "      <td>0</td>\n",
              "      <td>0</td>\n",
              "    </tr>\n",
              "    <tr>\n",
              "      <th>26</th>\n",
              "      <td>0</td>\n",
              "      <td>1</td>\n",
              "      <td>1</td>\n",
              "      <td>1</td>\n",
              "      <td>0.507042</td>\n",
              "      <td>1</td>\n",
              "      <td>0.579602</td>\n",
              "      <td>0.328796</td>\n",
              "      <td>1</td>\n",
              "      <td>0</td>\n",
              "      <td>...</td>\n",
              "      <td>0</td>\n",
              "      <td>1</td>\n",
              "      <td>0</td>\n",
              "      <td>0</td>\n",
              "      <td>0</td>\n",
              "      <td>1</td>\n",
              "      <td>0</td>\n",
              "      <td>0</td>\n",
              "      <td>1</td>\n",
              "      <td>0</td>\n",
              "    </tr>\n",
              "  </tbody>\n",
              "</table>\n",
              "<p>5 rows × 42 columns</p>\n",
              "</div>\n",
              "      <button class=\"colab-df-convert\" onclick=\"convertToInteractive('df-966659c7-1925-4134-b39d-f530cfdc97e7')\"\n",
              "              title=\"Convert this dataframe to an interactive table.\"\n",
              "              style=\"display:none;\">\n",
              "        \n",
              "  <svg xmlns=\"http://www.w3.org/2000/svg\" height=\"24px\"viewBox=\"0 0 24 24\"\n",
              "       width=\"24px\">\n",
              "    <path d=\"M0 0h24v24H0V0z\" fill=\"none\"/>\n",
              "    <path d=\"M18.56 5.44l.94 2.06.94-2.06 2.06-.94-2.06-.94-.94-2.06-.94 2.06-2.06.94zm-11 1L8.5 8.5l.94-2.06 2.06-.94-2.06-.94L8.5 2.5l-.94 2.06-2.06.94zm10 10l.94 2.06.94-2.06 2.06-.94-2.06-.94-.94-2.06-.94 2.06-2.06.94z\"/><path d=\"M17.41 7.96l-1.37-1.37c-.4-.4-.92-.59-1.43-.59-.52 0-1.04.2-1.43.59L10.3 9.45l-7.72 7.72c-.78.78-.78 2.05 0 2.83L4 21.41c.39.39.9.59 1.41.59.51 0 1.02-.2 1.41-.59l7.78-7.78 2.81-2.81c.8-.78.8-2.07 0-2.86zM5.41 20L4 18.59l7.72-7.72 1.47 1.35L5.41 20z\"/>\n",
              "  </svg>\n",
              "      </button>\n",
              "      \n",
              "  <style>\n",
              "    .colab-df-container {\n",
              "      display:flex;\n",
              "      flex-wrap:wrap;\n",
              "      gap: 12px;\n",
              "    }\n",
              "\n",
              "    .colab-df-convert {\n",
              "      background-color: #E8F0FE;\n",
              "      border: none;\n",
              "      border-radius: 50%;\n",
              "      cursor: pointer;\n",
              "      display: none;\n",
              "      fill: #1967D2;\n",
              "      height: 32px;\n",
              "      padding: 0 0 0 0;\n",
              "      width: 32px;\n",
              "    }\n",
              "\n",
              "    .colab-df-convert:hover {\n",
              "      background-color: #E2EBFA;\n",
              "      box-shadow: 0px 1px 2px rgba(60, 64, 67, 0.3), 0px 1px 3px 1px rgba(60, 64, 67, 0.15);\n",
              "      fill: #174EA6;\n",
              "    }\n",
              "\n",
              "    [theme=dark] .colab-df-convert {\n",
              "      background-color: #3B4455;\n",
              "      fill: #D2E3FC;\n",
              "    }\n",
              "\n",
              "    [theme=dark] .colab-df-convert:hover {\n",
              "      background-color: #434B5C;\n",
              "      box-shadow: 0px 1px 3px 1px rgba(0, 0, 0, 0.15);\n",
              "      filter: drop-shadow(0px 1px 2px rgba(0, 0, 0, 0.3));\n",
              "      fill: #FFFFFF;\n",
              "    }\n",
              "  </style>\n",
              "\n",
              "      <script>\n",
              "        const buttonEl =\n",
              "          document.querySelector('#df-966659c7-1925-4134-b39d-f530cfdc97e7 button.colab-df-convert');\n",
              "        buttonEl.style.display =\n",
              "          google.colab.kernel.accessAllowed ? 'block' : 'none';\n",
              "\n",
              "        async function convertToInteractive(key) {\n",
              "          const element = document.querySelector('#df-966659c7-1925-4134-b39d-f530cfdc97e7');\n",
              "          const dataTable =\n",
              "            await google.colab.kernel.invokeFunction('convertToInteractive',\n",
              "                                                     [key], {});\n",
              "          if (!dataTable) return;\n",
              "\n",
              "          const docLinkHtml = 'Like what you see? Visit the ' +\n",
              "            '<a target=\"_blank\" href=https://colab.research.google.com/notebooks/data_table.ipynb>data table notebook</a>'\n",
              "            + ' to learn more about interactive tables.';\n",
              "          element.innerHTML = '';\n",
              "          dataTable['output_type'] = 'display_data';\n",
              "          await google.colab.output.renderOutput(dataTable, element);\n",
              "          const docLink = document.createElement('div');\n",
              "          docLink.innerHTML = docLinkHtml;\n",
              "          element.appendChild(docLink);\n",
              "        }\n",
              "      </script>\n",
              "    </div>\n",
              "  </div>\n",
              "  "
            ]
          },
          "metadata": {},
          "execution_count": 172
        }
      ],
      "source": [
        "df=pd.read_csv('https://raw.githubusercontent.com/Mrkomiljon/google-colab-/main/churn_dataset.csv')\n",
        "df.sample(5)"
      ]
    },
    {
      "cell_type": "code",
      "source": [
        "X = df.drop(columns = ['Churn Value'])\n",
        "y = df['Churn Value'].values"
      ],
      "metadata": {
        "id": "bDQZ6E-1TTbW"
      },
      "execution_count": null,
      "outputs": []
    },
    {
      "cell_type": "code",
      "source": [
        "X_train, X_test, y_train, y_test = train_test_split(X,y,test_size = 0.3, random_state = 42, stratify=y)"
      ],
      "metadata": {
        "id": "lh_ph-VFUpWP"
      },
      "execution_count": null,
      "outputs": []
    },
    {
      "cell_type": "code",
      "source": [
        "dt_model = DecisionTreeClassifier()\n",
        "dt_model.fit(X_train,y_train)\n",
        "predictdt_y = dt_model.predict(X_test)\n",
        "accuracy_dt = dt_model.score(X_test,y_test)\n",
        "print(\"Decision Tree accuracy is :\",accuracy_dt)\n",
        "print(confusion_matrix(y_test,predictdt_y))\n",
        "print(classification_report(y_test,predictdt_y))"
      ],
      "metadata": {
        "colab": {
          "base_uri": "https://localhost:8080/"
        },
        "id": "038mH0r9Urbj",
        "outputId": "d6ca0d60-c22d-40e3-de3f-0d8b6558312e"
      },
      "execution_count": null,
      "outputs": [
        {
          "output_type": "stream",
          "name": "stdout",
          "text": [
            "Decision Tree accuracy is : 0.7327014218009479\n",
            "[[1277  272]\n",
            " [ 292  269]]\n",
            "              precision    recall  f1-score   support\n",
            "\n",
            "           0       0.81      0.82      0.82      1549\n",
            "           1       0.50      0.48      0.49       561\n",
            "\n",
            "    accuracy                           0.73      2110\n",
            "   macro avg       0.66      0.65      0.65      2110\n",
            "weighted avg       0.73      0.73      0.73      2110\n",
            "\n"
          ]
        }
      ]
    },
    {
      "cell_type": "code",
      "source": [
        "print(classification_report(y_test, predictdt_y))"
      ],
      "metadata": {
        "colab": {
          "base_uri": "https://localhost:8080/"
        },
        "id": "f4iUjVOiUt75",
        "outputId": "ab7a8e54-27b1-492a-e838-c9fb49998422"
      },
      "execution_count": null,
      "outputs": [
        {
          "output_type": "stream",
          "name": "stdout",
          "text": [
            "              precision    recall  f1-score   support\n",
            "\n",
            "           0       0.81      0.82      0.82      1549\n",
            "           1       0.50      0.48      0.49       561\n",
            "\n",
            "    accuracy                           0.73      2110\n",
            "   macro avg       0.66      0.65      0.65      2110\n",
            "weighted avg       0.73      0.73      0.73      2110\n",
            "\n"
          ]
        }
      ]
    },
    {
      "cell_type": "code",
      "source": [
        "from sklearn.svm import SVC\n",
        "svm=SVC()\n",
        "#Fit the model to the training dataset\n",
        "svm.fit(X_train,y_train)\n",
        "#Predict using the test set\n",
        "predictions=svm.predict(X_test)\n",
        "#instantiate Evaluation matrics\n",
        "from sklearn.metrics import classification_report,confusion_matrix\n",
        "print(\"SVM\", accuracy_score(y_test, predictions))\n",
        "print(confusion_matrix(y_test,predictions))\n",
        "print(classification_report(y_test,predictions))"
      ],
      "metadata": {
        "colab": {
          "base_uri": "https://localhost:8080/"
        },
        "id": "wc1jszWXZse2",
        "outputId": "ff3a8bab-fab5-42c9-e6ac-2c919ae64cee"
      },
      "execution_count": null,
      "outputs": [
        {
          "output_type": "stream",
          "name": "stdout",
          "text": [
            "SVM 0.804739336492891\n",
            "[[1387  162]\n",
            " [ 250  311]]\n",
            "              precision    recall  f1-score   support\n",
            "\n",
            "           0       0.85      0.90      0.87      1549\n",
            "           1       0.66      0.55      0.60       561\n",
            "\n",
            "    accuracy                           0.80      2110\n",
            "   macro avg       0.75      0.72      0.74      2110\n",
            "weighted avg       0.80      0.80      0.80      2110\n",
            "\n"
          ]
        }
      ]
    },
    {
      "cell_type": "code",
      "source": [
        "gb = GradientBoostingClassifier()\n",
        "gb.fit(X_train, y_train)\n",
        "gb_pred = gb.predict(X_test)\n",
        "gb_pred_train = gb.predict(X_train)\n",
        "\n",
        "print(\"Gradient Boosting Classifier\", accuracy_score(y_test, gb_pred))\n",
        "print(confusion_matrix(y_test,gb_pred))\n",
        "print(classification_report(y_test,gb_pred))"
      ],
      "metadata": {
        "colab": {
          "base_uri": "https://localhost:8080/"
        },
        "id": "eOFKcsF1ZzKm",
        "outputId": "1ee9bb86-69b5-46e4-efd8-2b751c87a11d"
      },
      "execution_count": null,
      "outputs": [
        {
          "output_type": "stream",
          "name": "stdout",
          "text": [
            "Gradient Boosting Classifier 0.8009478672985783\n",
            "[[1379  170]\n",
            " [ 250  311]]\n",
            "              precision    recall  f1-score   support\n",
            "\n",
            "           0       0.85      0.89      0.87      1549\n",
            "           1       0.65      0.55      0.60       561\n",
            "\n",
            "    accuracy                           0.80      2110\n",
            "   macro avg       0.75      0.72      0.73      2110\n",
            "weighted avg       0.79      0.80      0.80      2110\n",
            "\n"
          ]
        }
      ]
    },
    {
      "cell_type": "code",
      "source": [
        "from sklearn.linear_model import LogisticRegression\n",
        "lr=LogisticRegression()\n",
        "#Fit the model to the training set and predict using the test set\n",
        "lr.fit(X_train,y_train)\n",
        "predictions=lr.predict(X_test)\n",
        "#Evaluation matrics\n",
        "print(\"LR\", accuracy_score(y_test, predictions))\n",
        "print(confusion_matrix(y_test,predictions))\n",
        "print(classification_report(y_test,predictions))"
      ],
      "metadata": {
        "colab": {
          "base_uri": "https://localhost:8080/"
        },
        "id": "h63jTEhmZ7zF",
        "outputId": "83c32093-74e4-4749-8335-c47e9800306e"
      },
      "execution_count": null,
      "outputs": [
        {
          "output_type": "stream",
          "name": "stdout",
          "text": [
            "LR 0.8071090047393364\n",
            "[[1367  182]\n",
            " [ 225  336]]\n",
            "              precision    recall  f1-score   support\n",
            "\n",
            "           0       0.86      0.88      0.87      1549\n",
            "           1       0.65      0.60      0.62       561\n",
            "\n",
            "    accuracy                           0.81      2110\n",
            "   macro avg       0.75      0.74      0.75      2110\n",
            "weighted avg       0.80      0.81      0.80      2110\n",
            "\n"
          ]
        }
      ]
    },
    {
      "cell_type": "code",
      "source": [
        "'Churn Value' in X_train"
      ],
      "metadata": {
        "colab": {
          "base_uri": "https://localhost:8080/"
        },
        "id": "QhWGatVK0UM6",
        "outputId": "6d83fcee-673d-4ce9-8229-9576f273bd39"
      },
      "execution_count": null,
      "outputs": [
        {
          "output_type": "execute_result",
          "data": {
            "text/plain": [
              "False"
            ]
          },
          "metadata": {},
          "execution_count": 200
        }
      ]
    },
    {
      "cell_type": "code",
      "source": [
        "models    = [ gb , svm, lr, dt_model]\n",
        "\n",
        "for i in models:\n",
        "  for j in models : \n",
        "    if  i!=j:\n",
        "      i.fit(X_train, y_train)\n",
        "      X_train['model1_out'] = i.predict(X_train)\n",
        "      X_test['model1_out'] = i.predict(X_test)\n",
        "     # print('model 1  accuracy .... ', i.accuracy_score )\n",
        "      new_data = X_test.append(X_train) \n",
        "      #X = new_data.drop(columns = ['Churn Value'])\n",
        "      #y = df['Churn Value'].values\n",
        "      X_train1, X_test1, y_train1, y_test1 = train_test_split(X, y, test_size = 0.3, random_state = 42, stratify=y)\n",
        "      j.fit(X_train1, y_train1) \n",
        "      last_out_train = j.predict(X_train1)\n",
        "      last_out_test = j.predict(X_test1)\n",
        "      #print(f'acc of joined model: {j.accuracy_score}' )\n",
        "      # new_datay =  y_test.append(y_train) "
      ],
      "metadata": {
        "id": "LrkNCGMZcKTf"
      },
      "execution_count": null,
      "outputs": []
    },
    {
      "cell_type": "code",
      "source": [
        "from sklearn.linear_model import LogisticRegression\n",
        "lr=LogisticRegression()\n",
        "#Fit the model to the training set and predict using the test set\n",
        "lr.fit(X_train1,y_train1)\n",
        "predictions1=lr.predict(X_test1)\n",
        "#Evaluation matrics\n",
        "print(\"LR\", accuracy_score(y_test, predictions1))\n",
        "print(confusion_matrix(y_test,predictions1))\n",
        "print(classification_report(y_test,predictions1))"
      ],
      "metadata": {
        "colab": {
          "base_uri": "https://localhost:8080/"
        },
        "id": "Yj__udoA482E",
        "outputId": "11f00cb9-ac55-43e0-a9a7-cd0f49efa04d"
      },
      "execution_count": null,
      "outputs": [
        {
          "output_type": "stream",
          "name": "stdout",
          "text": [
            "LR 0.8071090047393364\n",
            "[[1367  182]\n",
            " [ 225  336]]\n",
            "              precision    recall  f1-score   support\n",
            "\n",
            "           0       0.86      0.88      0.87      1549\n",
            "           1       0.65      0.60      0.62       561\n",
            "\n",
            "    accuracy                           0.81      2110\n",
            "   macro avg       0.75      0.74      0.75      2110\n",
            "weighted avg       0.80      0.81      0.80      2110\n",
            "\n"
          ]
        }
      ]
    },
    {
      "cell_type": "code",
      "source": [
        "'Churn Value' in new_data"
      ],
      "metadata": {
        "colab": {
          "base_uri": "https://localhost:8080/"
        },
        "id": "2wqqVoHE5X2B",
        "outputId": "213cc8b0-4f77-4841-dae3-f3d9f365ab7c"
      },
      "execution_count": null,
      "outputs": [
        {
          "output_type": "execute_result",
          "data": {
            "text/plain": [
              "False"
            ]
          },
          "metadata": {},
          "execution_count": 193
        }
      ]
    },
    {
      "cell_type": "code",
      "source": [
        "gb = GradientBoostingClassifier()\n",
        "gb.fit(X_train1, y_train1)\n",
        "gb_pred1 = gb.predict(X_test1)\n",
        "gb_pred_train1 = gb.predict(X_train1)\n",
        "\n",
        "print(\"Gradient Boosting Classifier\", accuracy_score(y_test, gb_pred1))\n",
        "print(confusion_matrix(y_test,gb_pred1))\n",
        "print(classification_report(y_test,gb_pred1))"
      ],
      "metadata": {
        "colab": {
          "base_uri": "https://localhost:8080/"
        },
        "id": "u3F3UsYW5hV6",
        "outputId": "10aee966-a25f-4aab-b8ba-a209a7308962"
      },
      "execution_count": null,
      "outputs": [
        {
          "output_type": "stream",
          "name": "stdout",
          "text": [
            "Gradient Boosting Classifier 0.8009478672985783\n",
            "[[1379  170]\n",
            " [ 250  311]]\n",
            "              precision    recall  f1-score   support\n",
            "\n",
            "           0       0.85      0.89      0.87      1549\n",
            "           1       0.65      0.55      0.60       561\n",
            "\n",
            "    accuracy                           0.80      2110\n",
            "   macro avg       0.75      0.72      0.73      2110\n",
            "weighted avg       0.79      0.80      0.80      2110\n",
            "\n"
          ]
        }
      ]
    }
  ]
}