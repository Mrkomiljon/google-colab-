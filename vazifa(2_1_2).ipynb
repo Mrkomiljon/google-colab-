{
  "nbformat": 4,
  "nbformat_minor": 5,
  "metadata": {
    "kernelspec": {
      "display_name": "Python 3 (ipykernel)",
      "language": "python",
      "name": "python3"
    },
    "language_info": {
      "codemirror_mode": {
        "name": "ipython",
        "version": 3
      },
      "file_extension": ".py",
      "mimetype": "text/x-python",
      "name": "python",
      "nbconvert_exporter": "python",
      "pygments_lexer": "ipython3",
      "version": "3.9.7"
    },
    "colab": {
      "name": "vazifa(2_1_2).ipynb",
      "provenance": [],
      "collapsed_sections": [],
      "include_colab_link": true
    }
  },
  "cells": [
    {
      "cell_type": "markdown",
      "metadata": {
        "id": "view-in-github",
        "colab_type": "text"
      },
      "source": [
        "<a href=\"https://colab.research.google.com/github/Mrkomiljon/google-colab-/blob/main/vazifa(2_1_2).ipynb\" target=\"_parent\"><img src=\"https://colab.research.google.com/assets/colab-badge.svg\" alt=\"Open In Colab\"/></a>"
      ]
    },
    {
      "cell_type": "markdown",
      "metadata": {
        "id": "b0b2080b"
      },
      "source": [
        "Faqatgina `YOUR CODE HERE` yoki \"YOUR ANSWER HERE\" deyilgan joyga dasturingizni yoki javobingizni yozing"
      ],
      "id": "b0b2080b"
    },
    {
      "cell_type": "code",
      "metadata": {
        "id": "e2f7598d"
      },
      "source": [
        "NAME = \"Mukhammadiev Komiljon\"\n",
        "COLLABORATORS = \"Mohirdev\""
      ],
      "id": "e2f7598d",
      "execution_count": null,
      "outputs": []
    },
    {
      "cell_type": "markdown",
      "metadata": {
        "id": "fa132da4"
      },
      "source": [
        "---"
      ],
      "id": "fa132da4"
    },
    {
      "cell_type": "markdown",
      "metadata": {
        "id": "6bc9f403"
      },
      "source": [
        "---\n",
        "# Ma'lumotlar tahlili\n",
        "\n",
        "## 2.1.1. N-O'lchovli massivlarga ishlov berish\n",
        "\n",
        "## Vazifa-2"
      ],
      "id": "6bc9f403"
    },
    {
      "cell_type": "code",
      "metadata": {
        "id": "cd543d6c"
      },
      "source": [
        "# Numpy kutubxonasini chaqirib olish\n",
        "import numpy as np"
      ],
      "id": "cd543d6c",
      "execution_count": null,
      "outputs": []
    },
    {
      "cell_type": "markdown",
      "metadata": {
        "id": "b551a45c"
      },
      "source": [
        "### Masala(1): 2-o'lchamli massiv yaratish (1 point)\n",
        "\n",
        "**Masala sharti :** Elementlari 0 dan 9 gacha (9 ning o'zi massiv elementiga kirmaydi), qadami esa 1 ga teng bo'lgan (3, 3) o'lchamli massiv yarating. \n",
        "\n",
        "**Yordam :**  `arange`dan foydalanish ishni osonlashtiradi \n"
      ],
      "id": "b551a45c"
    },
    {
      "cell_type": "code",
      "metadata": {
        "deletable": false,
        "nbgrader": {
          "cell_type": "code",
          "checksum": "9acc974e84c2aee92d94d6e833bf1305",
          "grade": false,
          "grade_id": "3x3array",
          "locked": false,
          "schema_version": 3,
          "solution": true,
          "task": false
        },
        "id": "62ce423b"
      },
      "source": [
        "def nd_array():\n",
        "    \"\"\"Elementlari 0 dan 9 gacha (9 ning o'zi massiv elementiga kirmaydi), qadami esa 1 ga teng bo'lgan (3, 3) o'lchamli massiv \"\"\"\n",
        "    # YOUR CODE HERE\n",
        "    return np.arange(9).reshape(3, 3)\n",
        "   \n",
        "    raise NotImplementedError()"
      ],
      "id": "62ce423b",
      "execution_count": null,
      "outputs": []
    },
    {
      "cell_type": "code",
      "metadata": {
        "colab": {
          "base_uri": "https://localhost:8080/"
        },
        "id": "ZL9foI2NIWjq",
        "outputId": "18198063-13cb-4fdc-8fd0-2a68271b8618"
      },
      "source": [
        "np.arange(9).reshape(3, 3)"
      ],
      "id": "ZL9foI2NIWjq",
      "execution_count": null,
      "outputs": [
        {
          "output_type": "execute_result",
          "data": {
            "text/plain": [
              "array([[0, 1, 2],\n",
              "       [3, 4, 5],\n",
              "       [6, 7, 8]])"
            ]
          },
          "metadata": {},
          "execution_count": 70
        }
      ]
    },
    {
      "cell_type": "markdown",
      "metadata": {
        "id": "dcb65b5e"
      },
      "source": [
        "Sizning funksiyangiz massiv elementlari soni, `shape` massiv shakli, hamda elementlari 0~10 oralig'idagi numpy array ekanligi orqali tekshiriladi. Bundan tashqari bir qancha maxfiy testlardan o'tkaziladi (maslahatimiz aldashga urinmang). "
      ],
      "id": "dcb65b5e"
    },
    {
      "cell_type": "code",
      "metadata": {
        "deletable": false,
        "editable": false,
        "nbgrader": {
          "cell_type": "code",
          "checksum": "82321c32305744c0210aeee8b64eea26",
          "grade": true,
          "grade_id": "correct_3x3array",
          "locked": true,
          "points": 1,
          "schema_version": 3,
          "solution": false,
          "task": false
        },
        "id": "fabe3025"
      },
      "source": [
        "\"\"\"Funksiyani tekshirish\"\"\"\n",
        "arr = nd_array() # massiv\n",
        "assert arr.size == 9  # elementlar soni\n",
        "assert type(arr) == np.ndarray # #numpy array "
      ],
      "id": "fabe3025",
      "execution_count": null,
      "outputs": []
    },
    {
      "cell_type": "markdown",
      "metadata": {
        "id": "ea0fa389"
      },
      "source": [
        "###  Masala(2): Indeks yordamida 2-o'lchamli massivlardan elementlarni  kesib olish (3 points)\n",
        "\n",
        "**Masala :** Yuqorida yaratilgan massivning elementlari 6 va 7 ga teng bo'lgan qismini kesib olish funksiyasini tuzing.\n",
        "\n",
        "**Yordam :** 6 va 7 turgan indekslarni aniqlab olib, shu indekslar yordamida kesib oling. **Natija:** array([6, 7]) ko'rinishida bo'lishi kerak. "
      ],
      "id": "ea0fa389"
    },
    {
      "cell_type": "code",
      "metadata": {
        "deletable": false,
        "nbgrader": {
          "cell_type": "code",
          "checksum": "638aa8ddfe4153e2f3435b871acc40ca",
          "grade": false,
          "grade_id": "2dsliced_array",
          "locked": false,
          "schema_version": 3,
          "solution": true,
          "task": false
        },
        "id": "2bb7eaf7"
      },
      "source": [
        "def sliced_array_2d():\n",
        "    \"\"\"Yuqorida yaratilgan massivning elementlari 6 va 7 ga teng bo'lgan qismini kesib olish funksiyasi \"\"\"\n",
        "    # YOUR CODE HERE\n",
        "    a=np.arange(9).reshape(3, 3)\n",
        "    return a[2:, 0:2]\n",
        "    raise NotImplementedError()"
      ],
      "id": "2bb7eaf7",
      "execution_count": null,
      "outputs": []
    },
    {
      "cell_type": "code",
      "metadata": {
        "colab": {
          "base_uri": "https://localhost:8080/"
        },
        "id": "Eh2q2n7sJhH8",
        "outputId": "8e3e847a-2251-4bc1-b45c-1a1d7d547529"
      },
      "source": [
        "a=np.arange(9).reshape(3, 3)\n",
        "a[2:, 0:2]"
      ],
      "id": "Eh2q2n7sJhH8",
      "execution_count": null,
      "outputs": [
        {
          "output_type": "execute_result",
          "data": {
            "text/plain": [
              "array([[6, 7]])"
            ]
          },
          "metadata": {},
          "execution_count": 73
        }
      ]
    },
    {
      "cell_type": "markdown",
      "metadata": {
        "id": "41d30fda"
      },
      "source": [
        "Sizning funksiyangiz massiv elementlari soni, `shape` massiv shakli, hamda elementlari numpy array ekanligi orqali tekshiriladi. Bundan tashqari bir qancha maxfiy testlardan o'tkaziladi (maslahatimiz aldashga urinmang). "
      ],
      "id": "41d30fda"
    },
    {
      "cell_type": "code",
      "metadata": {
        "deletable": false,
        "editable": false,
        "nbgrader": {
          "cell_type": "code",
          "checksum": "43d706fef12434ce13eb70db193fb444",
          "grade": true,
          "grade_id": "correct_2dsliced_array",
          "locked": true,
          "points": 3,
          "schema_version": 3,
          "solution": false,
          "task": false
        },
        "id": "efda4be9"
      },
      "source": [
        "\"\"\"Funksiyani tekshirish\"\"\"\n",
        "sl_arr_2d = sliced_array_2d() # kesib olingan massiv\n",
        "# assert sl_arr_2d.size == 9  # elementlar soni\n",
        "assert type(sl_arr_2d) == np.ndarray # #numpy array "
      ],
      "id": "efda4be9",
      "execution_count": null,
      "outputs": []
    },
    {
      "cell_type": "markdown",
      "metadata": {
        "id": "553a4a91"
      },
      "source": [
        "###  Masala(3): Indeks yordamida 3-o'lchamli massivdan elementlarni kesib olish (4 points)\n",
        "\n",
        "**Masala :**  3-o'lchamli massivni quyidagi listdan yarating, hamda 12, 13, 15, va 16  elementlarini kesib oling. \n",
        "\n",
        "                  [[[ 0,  1,  2],\n",
        "                    [ 3,  4,  5],\n",
        "                    [ 6,  7,  8]],\n",
        "\n",
        "                   [[ 9, 10, 11],\n",
        "                    [12, 13, 14],\n",
        "                    [15, 16, 17]],\n",
        "\n",
        "                   [[18, 19, 20],\n",
        "                    [21, 22, 23],\n",
        "                    [24, 25, 26]]]\n",
        "\n",
        "**Yordam :** Avval massivni ikki o'lchamli massivga keltirib, keyin kesib olishni amalga oshiring. \n",
        "\n",
        "\n",
        "**Natija:**  \n",
        "\n",
        "             array([[12, 13],\n",
        "                    [15, 16]])\n",
        "ko'rinishida bo'lishi kerak. "
      ],
      "id": "553a4a91"
    },
    {
      "cell_type": "markdown",
      "metadata": {
        "id": "3fee2da4"
      },
      "source": [
        "Sizning funksiyangiz massiv elementlari soni, `shape` massiv shakli, hamda elementlari numpy array ekanligi orqali tekshiriladi. Bundan tashqari bir qancha maxfiy testlardan o'tkaziladi (maslahatimiz aldashga urinmang). "
      ],
      "id": "3fee2da4"
    },
    {
      "cell_type": "code",
      "metadata": {
        "deletable": false,
        "nbgrader": {
          "cell_type": "code",
          "checksum": "738e8b356eaa8e68563ca55106331cb6",
          "grade": false,
          "grade_id": "3dsliced_arr",
          "locked": false,
          "schema_version": 3,
          "solution": true,
          "task": false
        },
        "id": "d526e404"
      },
      "source": [
        "def sliced_array_3d():\n",
        "    \"\"\"3-o'lchamli massivni yuqoridagi listdan yaratish, hamda 12, 13, 15, va 16 elementlarini kesib olish funksiyasi\"\"\"\n",
        "    # YOUR CODE HERE\n",
        "    q=np.arange(27).reshape(3, 3, 3)\n",
        "    return q[1][0:3, 0:2]\n",
        "    raise NotImplementedError()"
      ],
      "id": "d526e404",
      "execution_count": null,
      "outputs": []
    },
    {
      "cell_type": "code",
      "metadata": {
        "colab": {
          "base_uri": "https://localhost:8080/"
        },
        "id": "5uaCRJFXMZ7E",
        "outputId": "c675319d-d00a-414b-ebd4-ce0f6c462964"
      },
      "source": [
        "q=np.arange(27).reshape(3, 3, 3)\n",
        "q"
      ],
      "id": "5uaCRJFXMZ7E",
      "execution_count": null,
      "outputs": [
        {
          "output_type": "execute_result",
          "data": {
            "text/plain": [
              "array([[[ 0,  1,  2],\n",
              "        [ 3,  4,  5],\n",
              "        [ 6,  7,  8]],\n",
              "\n",
              "       [[ 9, 10, 11],\n",
              "        [12, 13, 14],\n",
              "        [15, 16, 17]],\n",
              "\n",
              "       [[18, 19, 20],\n",
              "        [21, 22, 23],\n",
              "        [24, 25, 26]]])"
            ]
          },
          "metadata": {},
          "execution_count": 76
        }
      ]
    },
    {
      "cell_type": "code",
      "metadata": {
        "colab": {
          "base_uri": "https://localhost:8080/"
        },
        "id": "GDVDBG25MqWC",
        "outputId": "e053439d-93d7-439f-f1e2-aa8d77e18c2e"
      },
      "source": [
        "q[1][1:3, 0:2]"
      ],
      "id": "GDVDBG25MqWC",
      "execution_count": null,
      "outputs": [
        {
          "output_type": "execute_result",
          "data": {
            "text/plain": [
              "array([[12, 13],\n",
              "       [15, 16]])"
            ]
          },
          "metadata": {},
          "execution_count": 77
        }
      ]
    },
    {
      "cell_type": "code",
      "metadata": {
        "colab": {
          "base_uri": "https://localhost:8080/"
        },
        "id": "4ussFUAcNtr9",
        "outputId": "ac6dae0f-d1b6-4080-ea72-e672638b350e"
      },
      "source": [
        "q.size"
      ],
      "id": "4ussFUAcNtr9",
      "execution_count": null,
      "outputs": [
        {
          "output_type": "execute_result",
          "data": {
            "text/plain": [
              "27"
            ]
          },
          "metadata": {},
          "execution_count": 78
        }
      ]
    },
    {
      "cell_type": "code",
      "metadata": {
        "colab": {
          "base_uri": "https://localhost:8080/"
        },
        "id": "lPXby__wN8Pq",
        "outputId": "7e737790-2516-421a-8c73-b2ff42eb4ed4"
      },
      "source": [
        "type(q)"
      ],
      "id": "lPXby__wN8Pq",
      "execution_count": null,
      "outputs": [
        {
          "output_type": "execute_result",
          "data": {
            "text/plain": [
              "numpy.ndarray"
            ]
          },
          "metadata": {},
          "execution_count": 79
        }
      ]
    },
    {
      "cell_type": "code",
      "metadata": {
        "deletable": false,
        "editable": false,
        "nbgrader": {
          "cell_type": "code",
          "checksum": "da9af4b5cc3db8220fd885e197c75a74",
          "grade": true,
          "grade_id": "correct_3dsliced_arr",
          "locked": true,
          "points": 4,
          "schema_version": 3,
          "solution": false,
          "task": false
        },
        "id": "85111e6a"
      },
      "source": [
        "\"\"\"Funksiyani tekshirish\"\"\"\n",
        "sl_arr_3d = sliced_array_3d() # kesib olingan massiv\n",
        "# assert sl_arr_3d.size == 27  # elementlar soni\n",
        "assert type(sl_arr_3d) == np.ndarray # #numpy array "
      ],
      "id": "85111e6a",
      "execution_count": null,
      "outputs": []
    },
    {
      "cell_type": "markdown",
      "metadata": {
        "id": "a988bb47"
      },
      "source": [
        "###  Masala(4): Boolean indeks yordamida 2-o'lchamli massivlardan elementlarni  kesib olish (2 points)\n",
        "\n",
        "**Masala :** Bizlarda,  \n",
        "        \n",
        "        ['Hasan', 'Husan', 'Javohir', 'Elyor', 'Hasan', 'Javohir', 'Elyor']\n",
        "\n",
        "**list**dagi kishilar va ularning **ma'lumot**lari \n",
        "       \n",
        "      [[5, 6, 1, 1],\n",
        "       [9, 1, 1, 1],\n",
        "       [7, 7, 4, 2],\n",
        "       [1, 5, 1, 9],\n",
        "       [9, 9, 4, 5],\n",
        "       [7, 5, 9, 6],\n",
        "       [5, 3, 7, 4]]\n",
        "ko'rinishda keltirilgan. \n",
        "\n",
        "\n",
        "Mana shu ma'lumotlardan **Javohir** va **Elyor** ismlariga tegishli ma'lumotlarni Boolean indekslash yordamida kesib olish funksiyasini tuzing. \n",
        "**Yordam :** Boolean indekslash video darsligiga murojat qiling. **Natija:** Natija (4, 4) o'lchamli massiv ko'rinishida, hamda dastlabki ikkita qattori quyidagicha\n",
        "\n",
        "    array([[7, 7, 4, 2],\n",
        "           [1, 5, 1, 9],\n",
        "           ...\n",
        "           ...        ]])"
      ],
      "id": "a988bb47"
    },
    {
      "cell_type": "code",
      "metadata": {
        "colab": {
          "base_uri": "https://localhost:8080/"
        },
        "id": "9Kn5_2inK08g",
        "outputId": "409457b7-c6fe-45df-bf6f-51f82ada13fe"
      },
      "source": [
        "names= np.array(['Hasan', 'Husan', 'Javohir', 'Elyor', 'Hasan', 'Javohir', 'Elyor'])\n",
        "names"
      ],
      "id": "9Kn5_2inK08g",
      "execution_count": null,
      "outputs": [
        {
          "output_type": "execute_result",
          "data": {
            "text/plain": [
              "array(['Hasan', 'Husan', 'Javohir', 'Elyor', 'Hasan', 'Javohir', 'Elyor'],\n",
              "      dtype='<U7')"
            ]
          },
          "metadata": {},
          "execution_count": 81
        }
      ]
    },
    {
      "cell_type": "code",
      "metadata": {
        "colab": {
          "base_uri": "https://localhost:8080/"
        },
        "id": "dGNSHldbK_KV",
        "outputId": "5adc4623-fc0c-42c4-8a36-d3c0dc758eaa"
      },
      "source": [
        "data= np.array( [[5, 6, 1, 1],\n",
        "   [9, 1, 1, 1],\n",
        "   [7, 7, 4, 2],\n",
        "   [1, 5, 1, 9],\n",
        "   [9, 9, 4, 5],\n",
        "   [7, 5, 9, 6],\n",
        "   [5, 3, 7, 4]])\n",
        "data"
      ],
      "id": "dGNSHldbK_KV",
      "execution_count": null,
      "outputs": [
        {
          "output_type": "execute_result",
          "data": {
            "text/plain": [
              "array([[5, 6, 1, 1],\n",
              "       [9, 1, 1, 1],\n",
              "       [7, 7, 4, 2],\n",
              "       [1, 5, 1, 9],\n",
              "       [9, 9, 4, 5],\n",
              "       [7, 5, 9, 6],\n",
              "       [5, 3, 7, 4]])"
            ]
          },
          "metadata": {},
          "execution_count": 115
        }
      ]
    },
    {
      "cell_type": "code",
      "metadata": {
        "colab": {
          "base_uri": "https://localhost:8080/"
        },
        "id": "xyldq5TUPNkY",
        "outputId": "ff044e42-d0fb-4603-8c5f-5f7c8f245ec6"
      },
      "source": [
        "data"
      ],
      "id": "xyldq5TUPNkY",
      "execution_count": null,
      "outputs": [
        {
          "output_type": "execute_result",
          "data": {
            "text/plain": [
              "array([[5, 6, 1, 1],\n",
              "       [9, 1, 1, 1],\n",
              "       [7, 7, 4, 2],\n",
              "       [1, 5, 1, 9],\n",
              "       [9, 9, 4, 5],\n",
              "       [7, 5, 9, 6],\n",
              "       [5, 3, 7, 4]])"
            ]
          },
          "metadata": {},
          "execution_count": 116
        }
      ]
    },
    {
      "cell_type": "code",
      "metadata": {
        "colab": {
          "base_uri": "https://localhost:8080/"
        },
        "id": "a4QvO85SORZn",
        "outputId": "e382e086-f717-41a5-f835-21be82a6c37a"
      },
      "source": [
        "print(names)\n",
        "print(data)"
      ],
      "id": "a4QvO85SORZn",
      "execution_count": null,
      "outputs": [
        {
          "output_type": "stream",
          "name": "stdout",
          "text": [
            "['Hasan' 'Husan' 'Javohir' 'Elyor' 'Hasan' 'Javohir' 'Elyor']\n",
            "[[5 6 1 1]\n",
            " [9 1 1 1]\n",
            " [7 7 4 2]\n",
            " [1 5 1 9]\n",
            " [9 9 4 5]\n",
            " [7 5 9 6]\n",
            " [5 3 7 4]]\n"
          ]
        }
      ]
    },
    {
      "cell_type": "code",
      "metadata": {
        "colab": {
          "base_uri": "https://localhost:8080/"
        },
        "id": "a4iifGtA4bZm",
        "outputId": "88adf4f4-3272-40df-ee91-d68272349866"
      },
      "source": [
        "names =='Hasan'"
      ],
      "id": "a4iifGtA4bZm",
      "execution_count": null,
      "outputs": [
        {
          "output_type": "execute_result",
          "data": {
            "text/plain": [
              "array([ True, False, False, False,  True, False, False])"
            ]
          },
          "metadata": {},
          "execution_count": 85
        }
      ]
    },
    {
      "cell_type": "code",
      "metadata": {
        "colab": {
          "base_uri": "https://localhost:8080/"
        },
        "id": "AT7fXEw0LVKO",
        "outputId": "95d2e18b-c902-4622-914c-792e478bad39"
      },
      "source": [
        "mask = (names == 'Javohir') | (names == 'Elyor')\n",
        "mask"
      ],
      "id": "AT7fXEw0LVKO",
      "execution_count": null,
      "outputs": [
        {
          "output_type": "execute_result",
          "data": {
            "text/plain": [
              "array([False, False,  True,  True, False,  True,  True])"
            ]
          },
          "metadata": {},
          "execution_count": 86
        }
      ]
    },
    {
      "cell_type": "code",
      "metadata": {
        "colab": {
          "base_uri": "https://localhost:8080/"
        },
        "id": "FqgJ_jDbMm-F",
        "outputId": "59bbe8a2-617f-44c1-82a1-afabc3cefd69"
      },
      "source": [
        "data[mask].size"
      ],
      "id": "FqgJ_jDbMm-F",
      "execution_count": null,
      "outputs": [
        {
          "output_type": "execute_result",
          "data": {
            "text/plain": [
              "16"
            ]
          },
          "metadata": {},
          "execution_count": 87
        }
      ]
    },
    {
      "cell_type": "code",
      "metadata": {
        "colab": {
          "base_uri": "https://localhost:8080/"
        },
        "id": "QAW1S12j7bqI",
        "outputId": "28e7c6bb-90da-4517-bb5e-f5b8167bdb7c"
      },
      "source": [
        "data[mask]"
      ],
      "id": "QAW1S12j7bqI",
      "execution_count": null,
      "outputs": [
        {
          "output_type": "execute_result",
          "data": {
            "text/plain": [
              "array([[7, 7, 4, 2],\n",
              "       [1, 5, 1, 9],\n",
              "       [7, 5, 9, 6],\n",
              "       [5, 3, 7, 4]])"
            ]
          },
          "metadata": {},
          "execution_count": 114
        }
      ]
    },
    {
      "cell_type": "code",
      "metadata": {
        "deletable": false,
        "nbgrader": {
          "cell_type": "code",
          "checksum": "8dc4cf0c4811ac958a384022d55ab4cc",
          "grade": false,
          "grade_id": "boolean_idx",
          "locked": false,
          "schema_version": 3,
          "solution": true,
          "task": false
        },
        "id": "b3c06bba"
      },
      "source": [
        "def boolean_slicing():\n",
        "    \"\"\"Boolean indekslash yordamida ma'lumotlarni kesib olish \"\"\"\n",
        "    # YOUR CODE HERE\n",
        "    names= np.array(['Hasan', 'Husan', 'Javohir', 'Elyor', 'Hasan', 'Javohir', 'Elyor'])\n",
        "    data= np.array( [[5, 6, 1, 1],\n",
        "                    [9, 1, 1, 1],\n",
        "                    [7, 7, 4, 2],\n",
        "                    [1, 5, 1, 9],\n",
        "                    [9, 9, 4, 5],\n",
        "                    [7, 5, 9, 6],\n",
        "                    [5, 3, 7, 4]])\n",
        "    \n",
        "    return data[(names == 'Javohir') | (names == 'Elyor')] \n",
        "  #    raise NotImplementedError()"
      ],
      "id": "b3c06bba",
      "execution_count": null,
      "outputs": []
    },
    {
      "cell_type": "markdown",
      "metadata": {
        "id": "7407b59f"
      },
      "source": [
        "Sizning funksiyangiz massiv elementlari soni, `shape` massiv shakli, hamda elementlari numpy array ekanligi orqali tekshiriladi. Bundan tashqari bir qancha maxfiy testlardan o'tkaziladi (maslahatimiz aldashga urinmang). "
      ],
      "id": "7407b59f"
    },
    {
      "cell_type": "code",
      "metadata": {
        "deletable": false,
        "editable": false,
        "nbgrader": {
          "cell_type": "code",
          "checksum": "05fdc1eee5b76c353288e9f5588b5349",
          "grade": true,
          "grade_id": "correct_boolean_idx",
          "locked": true,
          "points": 2,
          "schema_version": 3,
          "solution": false,
          "task": false
        },
        "id": "3936329b"
      },
      "source": [
        "\n",
        "\"\"\"Funksiyani tekshirish\"\"\"\n",
        "bool_idx = boolean_slicing() # kesib olingan massiv\n",
        "assert bool_idx.size == 16  # elementlar soni\n",
        "assert type(bool_idx) == np.ndarray # #numpy array "
      ],
      "id": "3936329b",
      "execution_count": null,
      "outputs": []
    }
  ]
}