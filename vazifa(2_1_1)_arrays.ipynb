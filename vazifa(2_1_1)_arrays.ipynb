{
  "nbformat": 4,
  "nbformat_minor": 0,
  "metadata": {
    "colab": {
      "name": "vazifa(2_1_1)_arrays.ipynb",
      "provenance": [],
      "collapsed_sections": [],
      "include_colab_link": true
    },
    "kernelspec": {
      "display_name": "Python 3 (ipykernel)",
      "language": "python",
      "name": "python3"
    },
    "language_info": {
      "codemirror_mode": {
        "name": "ipython",
        "version": 3
      },
      "file_extension": ".py",
      "mimetype": "text/x-python",
      "name": "python",
      "nbconvert_exporter": "python",
      "pygments_lexer": "ipython3",
      "version": "3.9.7"
    }
  },
  "cells": [
    {
      "cell_type": "markdown",
      "metadata": {
        "id": "view-in-github",
        "colab_type": "text"
      },
      "source": [
        "<a href=\"https://colab.research.google.com/github/Mrkomiljon/google-colab-/blob/main/vazifa(2_1_1)_arrays.ipynb\" target=\"_parent\"><img src=\"https://colab.research.google.com/assets/colab-badge.svg\" alt=\"Open In Colab\"/></a>"
      ]
    },
    {
      "cell_type": "markdown",
      "metadata": {
        "id": "WynK5FGBIxAu"
      },
      "source": [
        "Faqatgina `YOUR CODE HERE` yoki \"YOUR ANSWER HERE\" deyilgan joyga dasturingizni yoki javobingizni yozing"
      ]
    },
    {
      "cell_type": "code",
      "metadata": {
        "id": "-CxgOakrIxA2"
      },
      "source": [
        "NAME = \"Mukhammadiev Komiljon\"\n",
        "COLLABORATORS = \"Mohirdev\""
      ],
      "execution_count": null,
      "outputs": []
    },
    {
      "cell_type": "markdown",
      "metadata": {
        "id": "OhcwBotvIxA3"
      },
      "source": [
        "---"
      ]
    },
    {
      "cell_type": "markdown",
      "metadata": {
        "id": "55PU8C43IxA4"
      },
      "source": [
        "For this problem set, we'll be using the Jupyter notebook:\n",
        "\n",
        "![](jupyter.png)"
      ]
    },
    {
      "cell_type": "markdown",
      "metadata": {
        "id": "yU82I4JDIxA5"
      },
      "source": [
        "---\n",
        "# Ma'lumotlar tahlili\n",
        "\n",
        "## 2.1.1. N-O'lchovli massivlarga ishlov berish\n"
      ]
    },
    {
      "cell_type": "code",
      "metadata": {
        "id": "677irq8HIxA5"
      },
      "source": [
        "# Numpy kutubxonasini chaqirib olish\n",
        "import numpy as np"
      ],
      "execution_count": null,
      "outputs": []
    },
    {
      "cell_type": "markdown",
      "metadata": {
        "id": "-D6_QNt0IxA6"
      },
      "source": [
        "### Masala(1): 1-o'lchamli massivlar yaratish (4 points)\n",
        "\n",
        "**Masala sharti :** Elementlari ixtiyoriy  *n* ta  (*n* > 0, butun son) bo'lgan 1-o'lchamli massiv (array) yaratuvchi funksiyani tuzing. \n",
        "\n",
        "**Yordam :**  `array` yoki `random` funksiyasidan foydalaning. \n"
      ]
    },
    {
      "cell_type": "code",
      "metadata": {
        "id": "wKP0LN0DIxA7"
      },
      "source": [
        "import numpy as np\n",
        "def one_dim(n):\n",
        "    \"\"\" n ta elementdan tashkil topgan 1-o'lchamli massiv   \n",
        "    \"\"\"\n",
        "     # YOUR CODE HERE\n",
        "    return np.array(list(range(1, n+1)))\n",
        "    raise NotImplementedError()"
      ],
      "execution_count": null,
      "outputs": []
    },
    {
      "cell_type": "markdown",
      "metadata": {
        "id": "TiaDZTdGIxA8"
      },
      "source": [
        "Sizning funksiyangiz `n`elementlari soni, `ndim` massiv o'lchami, hamda numpy array ekanligi orqali tekshiriladi: funksiyangizni pastdagi cellda tekshirib ko'ring"
      ]
    },
    {
      "cell_type": "code",
      "metadata": {
        "id": "lWxmcoYcIxA9"
      },
      "source": [
        " \"\"\"Check that squares returns the correct output for several inputs\"\"\"\n",
        "for i in range(1, 10):\n",
        "    assert len(one_dim(i)) == i  # n elementlar soni\n",
        "    arr = one_dim(i) # massiv\n",
        "    assert arr.ndim == 1 # massiv o'lchami\n",
        "    assert type(arr) == np.ndarray # #numpy array "
      ],
      "execution_count": null,
      "outputs": []
    },
    {
      "cell_type": "markdown",
      "metadata": {
        "id": "NaMGkUThIxA-"
      },
      "source": [
        "### Masala(2) 2-o'lchamli massivlar yaratish (6 points)\n",
        "\n",
        "**Masala :** Shakli `shape(r, c)` bo'lgan 2-o'lchamli massiv (array) yaratuvchi funksiyani tuzing.  \n",
        "\n",
        "**Yordam :** numpy kutubxonasida massivlar yaratuvchi funksiyalarining istalganidan foydlanishingiz mumkin. \n"
      ]
    },
    {
      "cell_type": "code",
      "metadata": {
        "id": "hXKHaC82IxA-"
      },
      "source": [
        "def two_dim(r, c):\n",
        "    \"\"\" r ta qator, c ta ustundan tashkil topgan 2-o'lchamli massiv  \n",
        "    \"\"\"\n",
        "     # YOUR CODE HERE\n",
        "    arr= np.ones((r, c))\n",
        "    return arr\n",
        "   "
      ],
      "execution_count": null,
      "outputs": []
    },
    {
      "cell_type": "code",
      "metadata": {
        "colab": {
          "base_uri": "https://localhost:8080/"
        },
        "id": "AX7EtE_N4qKG",
        "outputId": "b4afbfc2-3d74-4d5e-da45-6a9004d55f55"
      },
      "source": [
        "two_dim(2, 4)"
      ],
      "execution_count": null,
      "outputs": [
        {
          "output_type": "execute_result",
          "data": {
            "text/plain": [
              "array([[0., 0., 0., 0.],\n",
              "       [0., 0., 0., 0.]])"
            ]
          },
          "metadata": {},
          "execution_count": 91
        }
      ]
    },
    {
      "cell_type": "code",
      "metadata": {
        "id": "BD4MbgBKIxA_"
      },
      "source": [
        "arr = two_dim(3, 2) # massiv\n",
        "assert arr.shape == (3, 2) # shape\n",
        "assert arr.ndim == 2 # massiv o'lchami\n",
        "assert type(arr) == np.ndarray # #numpy array "
      ],
      "execution_count": null,
      "outputs": []
    }
  ]
}